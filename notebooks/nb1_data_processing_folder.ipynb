{
 "cells": [
  {
   "cell_type": "code",
   "execution_count": 3,
   "id": "4ef6dfc6",
   "metadata": {},
   "outputs": [],
   "source": [
    "import os\n",
    "import shutil\n",
    "import copy"
   ]
  },
  {
   "cell_type": "code",
   "execution_count": 2,
   "id": "0a5af257",
   "metadata": {},
   "outputs": [],
   "source": [
    "DATA_DIR = 'D:/DATA_SCIENCE/biometrics'\n",
    "OLD_DIR = 'D:/DATA_SCIENCE/biometrics/UBIPeriocular'\n",
    "NEW_DIR = 'D:/DATA_SCIENCE/biometrics/ubiperiocular_updated'"
   ]
  },
  {
   "cell_type": "code",
   "execution_count": 10,
   "id": "c73150d2",
   "metadata": {},
   "outputs": [
    {
     "name": "stdout",
     "output_type": "stream",
     "text": [
      "the number of images : 30597\n"
     ]
    }
   ],
   "source": [
    "#checking the number of files\n",
    "list_files = list(os.listdir(OLD_DIR))\n",
    "print(f'the number of images : {len(list_files)}')"
   ]
  },
  {
   "cell_type": "code",
   "execution_count": 13,
   "id": "31afb6cb",
   "metadata": {},
   "outputs": [
    {
     "name": "stdout",
     "output_type": "stream",
     "text": [
      "the transfer is successful\n"
     ]
    }
   ],
   "source": [
    "#ignoring the files that start with ._ and copying the rest into new folder\n",
    "for file in list_files:\n",
    "    if file.startswith('._'):\n",
    "        continue\n",
    "    shutil.copy(os.path.join(OLD_DIR,file), NEW_DIR)\n",
    "print(f'the transfer is successful')"
   ]
  },
  {
   "cell_type": "code",
   "execution_count": 16,
   "id": "c5485f8f",
   "metadata": {},
   "outputs": [
    {
     "name": "stdout",
     "output_type": "stream",
     "text": [
      "the number of images(plus labels) : 20398\n"
     ]
    }
   ],
   "source": [
    "# checking the number of files in new folder\n",
    "print(f'the number of images(plus labels) : {len(os.listdir(NEW_DIR))}')"
   ]
  }
 ],
 "metadata": {
  "kernelspec": {
   "display_name": "Python 3",
   "language": "python",
   "name": "python3"
  },
  "language_info": {
   "codemirror_mode": {
    "name": "ipython",
    "version": 3
   },
   "file_extension": ".py",
   "mimetype": "text/x-python",
   "name": "python",
   "nbconvert_exporter": "python",
   "pygments_lexer": "ipython3",
   "version": "3.8.8"
  }
 },
 "nbformat": 4,
 "nbformat_minor": 5
}
