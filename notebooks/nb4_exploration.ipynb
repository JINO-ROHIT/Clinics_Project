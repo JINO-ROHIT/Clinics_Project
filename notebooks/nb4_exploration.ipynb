{
 "cells": [
  {
   "cell_type": "code",
   "execution_count": 14,
   "id": "e0870236",
   "metadata": {},
   "outputs": [],
   "source": [
    "import os\n",
    "import shutil\n",
    "import copy\n",
    "from tqdm import tqdm\n",
    "\n",
    "import pandas as pd\n",
    "import numpy as np"
   ]
  },
  {
   "cell_type": "code",
   "execution_count": 15,
   "id": "0d067655",
   "metadata": {},
   "outputs": [],
   "source": [
    "MAIN_DIR = 'D:/DATA_SCIENCE/biometrics/artifacts'"
   ]
  },
  {
   "cell_type": "code",
   "execution_count": 16,
   "id": "3ab6539b",
   "metadata": {},
   "outputs": [
    {
     "data": {
      "text/html": [
       "<div>\n",
       "<style scoped>\n",
       "    .dataframe tbody tr th:only-of-type {\n",
       "        vertical-align: middle;\n",
       "    }\n",
       "\n",
       "    .dataframe tbody tr th {\n",
       "        vertical-align: top;\n",
       "    }\n",
       "\n",
       "    .dataframe thead th {\n",
       "        text-align: right;\n",
       "    }\n",
       "</style>\n",
       "<table border=\"1\" class=\"dataframe\">\n",
       "  <thead>\n",
       "    <tr style=\"text-align: right;\">\n",
       "      <th></th>\n",
       "      <th>name</th>\n",
       "      <th>gender</th>\n",
       "      <th>corner_out_x</th>\n",
       "      <th>corner_out_y</th>\n",
       "      <th>corner_in_x</th>\n",
       "      <th>corner_in_y</th>\n",
       "    </tr>\n",
       "  </thead>\n",
       "  <tbody>\n",
       "    <tr>\n",
       "      <th>0</th>\n",
       "      <td>C1_S1_I1.txt</td>\n",
       "      <td>Male</td>\n",
       "      <td>219</td>\n",
       "      <td>162</td>\n",
       "      <td>219</td>\n",
       "      <td>369</td>\n",
       "    </tr>\n",
       "    <tr>\n",
       "      <th>1</th>\n",
       "      <td>C1_S1_I2.txt</td>\n",
       "      <td>Male</td>\n",
       "      <td>225</td>\n",
       "      <td>179</td>\n",
       "      <td>227</td>\n",
       "      <td>368</td>\n",
       "    </tr>\n",
       "    <tr>\n",
       "      <th>2</th>\n",
       "      <td>C1_S1_I3.txt</td>\n",
       "      <td>Male</td>\n",
       "      <td>212</td>\n",
       "      <td>154</td>\n",
       "      <td>224</td>\n",
       "      <td>358</td>\n",
       "    </tr>\n",
       "    <tr>\n",
       "      <th>3</th>\n",
       "      <td>C1_S1_I4.txt</td>\n",
       "      <td>Male</td>\n",
       "      <td>237</td>\n",
       "      <td>176</td>\n",
       "      <td>251</td>\n",
       "      <td>401</td>\n",
       "    </tr>\n",
       "    <tr>\n",
       "      <th>4</th>\n",
       "      <td>C1_S1_I5.txt</td>\n",
       "      <td>Male</td>\n",
       "      <td>249</td>\n",
       "      <td>183</td>\n",
       "      <td>256</td>\n",
       "      <td>388</td>\n",
       "    </tr>\n",
       "  </tbody>\n",
       "</table>\n",
       "</div>"
      ],
      "text/plain": [
       "           name gender  corner_out_x  corner_out_y  corner_in_x  corner_in_y\n",
       "0  C1_S1_I1.txt   Male           219           162          219          369\n",
       "1  C1_S1_I2.txt   Male           225           179          227          368\n",
       "2  C1_S1_I3.txt   Male           212           154          224          358\n",
       "3  C1_S1_I4.txt   Male           237           176          251          401\n",
       "4  C1_S1_I5.txt   Male           249           183          256          388"
      ]
     },
     "metadata": {},
     "output_type": "display_data"
    }
   ],
   "source": [
    "#reading the pickle file\n",
    "train = pd.read_pickle(os.path.join(MAIN_DIR,'train.pkl'))\n",
    "display(train.head())"
   ]
  },
  {
   "cell_type": "code",
   "execution_count": 17,
   "id": "e9052a16",
   "metadata": {},
   "outputs": [
    {
     "name": "stdout",
     "output_type": "stream",
     "text": [
      "the number of rows : 10199\n"
     ]
    }
   ],
   "source": [
    "# printing the rows\n",
    "print(f'the number of rows : {train.shape[0]}')"
   ]
  },
  {
   "cell_type": "code",
   "execution_count": 24,
   "id": "5b69911c",
   "metadata": {},
   "outputs": [],
   "source": [
    "# fucntion to remove C letter\n",
    "def remove_alp(row):\n",
    "    row = row.replace('C','')\n",
    "    return row"
   ]
  },
  {
   "cell_type": "code",
   "execution_count": 25,
   "id": "91a1efc2",
   "metadata": {},
   "outputs": [],
   "source": [
    "train['person_id'] = train['person_id'].apply(remove_alp)"
   ]
  },
  {
   "cell_type": "code",
   "execution_count": 28,
   "id": "8621d0ab",
   "metadata": {},
   "outputs": [
    {
     "data": {
      "text/plain": [
       "521     1\n",
       "456    13\n",
       "453    13\n",
       "455    13\n",
       "271    14\n",
       "       ..\n",
       "89     30\n",
       "111    30\n",
       "9      30\n",
       "237    30\n",
       "103    30\n",
       "Name: person_id, Length: 507, dtype: int64"
      ]
     },
     "execution_count": 28,
     "metadata": {},
     "output_type": "execute_result"
    }
   ],
   "source": [
    "# checking the values of each classes\n",
    "train['person_id'].value_counts(ascending = True)"
   ]
  },
  {
   "cell_type": "code",
   "execution_count": 31,
   "id": "51af3e6f",
   "metadata": {},
   "outputs": [
    {
     "data": {
      "text/plain": [
       "person_id\n",
       "1       1\n",
       "13      3\n",
       "14     13\n",
       "15    311\n",
       "16      3\n",
       "27      3\n",
       "29      7\n",
       "30    166\n",
       "dtype: int64"
      ]
     },
     "execution_count": 31,
     "metadata": {},
     "output_type": "execute_result"
    }
   ],
   "source": [
    "train['person_id'].value_counts(ascending = True).to_frame().groupby('person_id').size()"
   ]
  },
  {
   "cell_type": "code",
   "execution_count": 33,
   "id": "0615aad3",
   "metadata": {},
   "outputs": [],
   "source": [
    "assert train.shape[0] == ( (30*166) + (29*7) + (27*3) + (16*3) + (15*311) + (14*13) + (13*3) + (1*1)), \"numbers don't add\""
   ]
  }
 ],
 "metadata": {
  "kernelspec": {
   "display_name": "Python 3",
   "language": "python",
   "name": "python3"
  },
  "language_info": {
   "codemirror_mode": {
    "name": "ipython",
    "version": 3
   },
   "file_extension": ".py",
   "mimetype": "text/x-python",
   "name": "python",
   "nbconvert_exporter": "python",
   "pygments_lexer": "ipython3",
   "version": "3.8.8"
  }
 },
 "nbformat": 4,
 "nbformat_minor": 5
}
