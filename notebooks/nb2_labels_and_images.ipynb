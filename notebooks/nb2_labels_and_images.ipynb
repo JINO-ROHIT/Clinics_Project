{
 "cells": [
  {
   "cell_type": "code",
   "execution_count": 1,
   "id": "82cd1a62",
   "metadata": {},
   "outputs": [],
   "source": [
    "import os\n",
    "import shutil\n",
    "import copy"
   ]
  },
  {
   "cell_type": "code",
   "execution_count": 2,
   "id": "223ec69a",
   "metadata": {},
   "outputs": [],
   "source": [
    "CUR_DIR = 'D:/DATA_SCIENCE/biometrics/ubiperiocular_updated'\n",
    "IMAGE_DIR = 'D:/DATA_SCIENCE/biometrics/ubiperiocular_updated/images'\n",
    "LABEL_DIR = 'D:/DATA_SCIENCE/biometrics/ubiperiocular_updated/labels'"
   ]
  },
  {
   "cell_type": "code",
   "execution_count": 5,
   "id": "3288ff22",
   "metadata": {},
   "outputs": [
    {
     "name": "stdout",
     "output_type": "stream",
     "text": [
      "successful transfer\n"
     ]
    }
   ],
   "source": [
    "# seperating the images and labels into different folders\n",
    "file_list = list(os.listdir(CUR_DIR))\n",
    "for file in file_list:\n",
    "    if file.endswith('.jpg'):\n",
    "        shutil.move(os.path.join(CUR_DIR, file), IMAGE_DIR)\n",
    "    else:\n",
    "        shutil.move(os.path.join(CUR_DIR, file), LABEL_DIR)\n",
    "print('successful transfer')    "
   ]
  }
 ],
 "metadata": {
  "kernelspec": {
   "display_name": "Python 3",
   "language": "python",
   "name": "python3"
  },
  "language_info": {
   "codemirror_mode": {
    "name": "ipython",
    "version": 3
   },
   "file_extension": ".py",
   "mimetype": "text/x-python",
   "name": "python",
   "nbconvert_exporter": "python",
   "pygments_lexer": "ipython3",
   "version": "3.8.8"
  }
 },
 "nbformat": 4,
 "nbformat_minor": 5
}
