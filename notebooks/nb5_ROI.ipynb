{
 "cells": [
  {
   "cell_type": "markdown",
   "id": "df69c5a5",
   "metadata": {},
   "source": [
    "# MAIN ALGORITHM\n",
    "\n",
    "1) Suppose (x1,y1) and (x2,y2) are the coordinates for inner and outer canthus points.\n",
    "\n",
    "2) Euclidean distance between inner and outer canthus points is \n",
    " 𝐷𝐷((𝑥𝑥1, 𝑦𝑦1), (𝑥𝑥2, 𝑦𝑦2)) = √(x1 − x2)2 + (y1 − y2)2 \n",
    " \n",
    "3) Calculate points Lp = (Lpx, Lpy)\n",
    "Lpx = ( x1 + x2) /2 \n",
    "Lpy = (y1+y2)/2 \n",
    "\n",
    "4) Calculate top left (x3,y3)and bottom right (x4,y4) coordinate points of rectangular ROI\n",
    "(x3, y3) = (Lpx − 1.2 x D , Lpy − 0.8 x D) \n",
    "(x4, y4) = (Lpx + 1.2 x D , Lpy + 0.8 x D)\n",
    "\n",
    "5) Extract rectangular ROI with the above calculated points and resize all ROI images to the size of 224 X 224 X 3"
   ]
  },
  {
   "cell_type": "code",
   "execution_count": 97,
   "id": "a2b04cc9",
   "metadata": {},
   "outputs": [],
   "source": [
    "import os\n",
    "import shutil\n",
    "import copy\n",
    "\n",
    "from tqdm import tqdm\n",
    "\n",
    "import pandas as pd\n",
    "import numpy as np\n",
    "\n",
    "import matplotlib.pyplot as plt\n",
    "import seaborn as sns\n",
    "\n",
    "import cv2\n",
    "from PIL import Image\n",
    "\n",
    "import pickle\n",
    "import math"
   ]
  },
  {
   "cell_type": "code",
   "execution_count": 98,
   "id": "57c0b9e5",
   "metadata": {},
   "outputs": [],
   "source": [
    "ARTIFACT = 'D:/DATA_SCIENCE/biometrics/artifacts'"
   ]
  },
  {
   "cell_type": "code",
   "execution_count": 99,
   "id": "dffe29ad",
   "metadata": {},
   "outputs": [
    {
     "data": {
      "text/html": [
       "<div>\n",
       "<style scoped>\n",
       "    .dataframe tbody tr th:only-of-type {\n",
       "        vertical-align: middle;\n",
       "    }\n",
       "\n",
       "    .dataframe tbody tr th {\n",
       "        vertical-align: top;\n",
       "    }\n",
       "\n",
       "    .dataframe thead th {\n",
       "        text-align: right;\n",
       "    }\n",
       "</style>\n",
       "<table border=\"1\" class=\"dataframe\">\n",
       "  <thead>\n",
       "    <tr style=\"text-align: right;\">\n",
       "      <th></th>\n",
       "      <th>name</th>\n",
       "      <th>gender</th>\n",
       "      <th>corner_out_x</th>\n",
       "      <th>corner_out_y</th>\n",
       "      <th>corner_in_x</th>\n",
       "      <th>corner_in_y</th>\n",
       "    </tr>\n",
       "  </thead>\n",
       "  <tbody>\n",
       "    <tr>\n",
       "      <th>0</th>\n",
       "      <td>C1_S1_I1.txt</td>\n",
       "      <td>Male</td>\n",
       "      <td>219</td>\n",
       "      <td>162</td>\n",
       "      <td>219</td>\n",
       "      <td>369</td>\n",
       "    </tr>\n",
       "    <tr>\n",
       "      <th>1</th>\n",
       "      <td>C1_S1_I2.txt</td>\n",
       "      <td>Male</td>\n",
       "      <td>225</td>\n",
       "      <td>179</td>\n",
       "      <td>227</td>\n",
       "      <td>368</td>\n",
       "    </tr>\n",
       "    <tr>\n",
       "      <th>2</th>\n",
       "      <td>C1_S1_I3.txt</td>\n",
       "      <td>Male</td>\n",
       "      <td>212</td>\n",
       "      <td>154</td>\n",
       "      <td>224</td>\n",
       "      <td>358</td>\n",
       "    </tr>\n",
       "    <tr>\n",
       "      <th>3</th>\n",
       "      <td>C1_S1_I4.txt</td>\n",
       "      <td>Male</td>\n",
       "      <td>237</td>\n",
       "      <td>176</td>\n",
       "      <td>251</td>\n",
       "      <td>401</td>\n",
       "    </tr>\n",
       "    <tr>\n",
       "      <th>4</th>\n",
       "      <td>C1_S1_I5.txt</td>\n",
       "      <td>Male</td>\n",
       "      <td>249</td>\n",
       "      <td>183</td>\n",
       "      <td>256</td>\n",
       "      <td>388</td>\n",
       "    </tr>\n",
       "  </tbody>\n",
       "</table>\n",
       "</div>"
      ],
      "text/plain": [
       "           name gender  corner_out_x  corner_out_y  corner_in_x  corner_in_y\n",
       "0  C1_S1_I1.txt   Male           219           162          219          369\n",
       "1  C1_S1_I2.txt   Male           225           179          227          368\n",
       "2  C1_S1_I3.txt   Male           212           154          224          358\n",
       "3  C1_S1_I4.txt   Male           237           176          251          401\n",
       "4  C1_S1_I5.txt   Male           249           183          256          388"
      ]
     },
     "metadata": {},
     "output_type": "display_data"
    }
   ],
   "source": [
    "train = pd.read_pickle(os.path.join(ARTIFACT,'train.pkl'))\n",
    "display(train.head())"
   ]
  },
  {
   "cell_type": "code",
   "execution_count": 100,
   "id": "85b6c86c",
   "metadata": {},
   "outputs": [],
   "source": [
    "# applying this formula √(x1 − x2)2 + (y1 − y2)2\n",
    "holder = ( (train['corner_in_x'] - train['corner_out_x'])**2 + \n",
    "                                (train['corner_in_y'] - train['corner_out_y'])**2 )\n",
    "    "
   ]
  },
  {
   "cell_type": "code",
   "execution_count": 101,
   "id": "e5c35748",
   "metadata": {},
   "outputs": [],
   "source": [
    "train['euclidean_distance'] = holder.apply(lambda x: math.sqrt(x))"
   ]
  },
  {
   "cell_type": "code",
   "execution_count": 102,
   "id": "2bcc2a44",
   "metadata": {},
   "outputs": [],
   "source": [
    "# applying this formula Lpx = ( x1 + x2) /2 Lpy = (y1+y2)/2\n",
    "train['lpx'] = ( train['corner_out_x'] + train['corner_in_x'] ) / 2\n",
    "train['lpy'] = ( train['corner_out_y'] + train['corner_in_y'] ) / 2"
   ]
  },
  {
   "cell_type": "code",
   "execution_count": 103,
   "id": "c1c31c56",
   "metadata": {},
   "outputs": [],
   "source": [
    "# applying this formula (Lpx − 1.2 x D , Lpy − 0.8 x D) (x4, y4) = (Lpx + 1.2 x D , Lpy + 0.8 x D)\n",
    "train['x3'] = train['lpx'] - 1.2 * train['euclidean_distance']                              \n",
    "train['y3'] = train['lpy'] - 0.8 * train['euclidean_distance']\n",
    "\n",
    "train['x4'] = train['lpx'] + 1.2 * train['euclidean_distance']\n",
    "train['y4'] = train['lpy'] + 0.8 * train['euclidean_distance']"
   ]
  },
  {
   "cell_type": "code",
   "execution_count": 104,
   "id": "0ff206cd",
   "metadata": {},
   "outputs": [],
   "source": [
    "#renaming the columns to look more neat\n",
    "renamed_columns = {'corner_in_x' : 'x1', 'corner_in_y' : 'y1', 'corner_out_x' : 'x2', 'corner_out_y' : 'y2'}\n",
    "train.rename(columns = renamed_columns, inplace = True)"
   ]
  },
  {
   "cell_type": "code",
   "execution_count": 105,
   "id": "b9ccd99d",
   "metadata": {},
   "outputs": [],
   "source": [
    "train['image'] = train['name'].apply(lambda x: x.split('.')[0] + '.jpg')"
   ]
  },
  {
   "cell_type": "code",
   "execution_count": 106,
   "id": "155db8ab",
   "metadata": {},
   "outputs": [
    {
     "data": {
      "text/html": [
       "<div>\n",
       "<style scoped>\n",
       "    .dataframe tbody tr th:only-of-type {\n",
       "        vertical-align: middle;\n",
       "    }\n",
       "\n",
       "    .dataframe tbody tr th {\n",
       "        vertical-align: top;\n",
       "    }\n",
       "\n",
       "    .dataframe thead th {\n",
       "        text-align: right;\n",
       "    }\n",
       "</style>\n",
       "<table border=\"1\" class=\"dataframe\">\n",
       "  <thead>\n",
       "    <tr style=\"text-align: right;\">\n",
       "      <th></th>\n",
       "      <th>name</th>\n",
       "      <th>gender</th>\n",
       "      <th>x2</th>\n",
       "      <th>y2</th>\n",
       "      <th>x1</th>\n",
       "      <th>y1</th>\n",
       "      <th>euclidean_distance</th>\n",
       "      <th>lpx</th>\n",
       "      <th>lpy</th>\n",
       "      <th>x3</th>\n",
       "      <th>y3</th>\n",
       "      <th>x4</th>\n",
       "      <th>y4</th>\n",
       "      <th>image</th>\n",
       "    </tr>\n",
       "  </thead>\n",
       "  <tbody>\n",
       "    <tr>\n",
       "      <th>0</th>\n",
       "      <td>C1_S1_I1.txt</td>\n",
       "      <td>Male</td>\n",
       "      <td>219</td>\n",
       "      <td>162</td>\n",
       "      <td>219</td>\n",
       "      <td>369</td>\n",
       "      <td>207.000000</td>\n",
       "      <td>219.0</td>\n",
       "      <td>265.5</td>\n",
       "      <td>-29.400000</td>\n",
       "      <td>99.900000</td>\n",
       "      <td>467.400000</td>\n",
       "      <td>431.100000</td>\n",
       "      <td>C1_S1_I1.jpg</td>\n",
       "    </tr>\n",
       "    <tr>\n",
       "      <th>1</th>\n",
       "      <td>C1_S1_I2.txt</td>\n",
       "      <td>Male</td>\n",
       "      <td>225</td>\n",
       "      <td>179</td>\n",
       "      <td>227</td>\n",
       "      <td>368</td>\n",
       "      <td>189.010582</td>\n",
       "      <td>226.0</td>\n",
       "      <td>273.5</td>\n",
       "      <td>-0.812698</td>\n",
       "      <td>122.291535</td>\n",
       "      <td>452.812698</td>\n",
       "      <td>424.708465</td>\n",
       "      <td>C1_S1_I2.jpg</td>\n",
       "    </tr>\n",
       "    <tr>\n",
       "      <th>2</th>\n",
       "      <td>C1_S1_I3.txt</td>\n",
       "      <td>Male</td>\n",
       "      <td>212</td>\n",
       "      <td>154</td>\n",
       "      <td>224</td>\n",
       "      <td>358</td>\n",
       "      <td>204.352636</td>\n",
       "      <td>218.0</td>\n",
       "      <td>256.0</td>\n",
       "      <td>-27.223164</td>\n",
       "      <td>92.517891</td>\n",
       "      <td>463.223164</td>\n",
       "      <td>419.482109</td>\n",
       "      <td>C1_S1_I3.jpg</td>\n",
       "    </tr>\n",
       "    <tr>\n",
       "      <th>3</th>\n",
       "      <td>C1_S1_I4.txt</td>\n",
       "      <td>Male</td>\n",
       "      <td>237</td>\n",
       "      <td>176</td>\n",
       "      <td>251</td>\n",
       "      <td>401</td>\n",
       "      <td>225.435135</td>\n",
       "      <td>244.0</td>\n",
       "      <td>288.5</td>\n",
       "      <td>-26.522162</td>\n",
       "      <td>108.151892</td>\n",
       "      <td>514.522162</td>\n",
       "      <td>468.848108</td>\n",
       "      <td>C1_S1_I4.jpg</td>\n",
       "    </tr>\n",
       "    <tr>\n",
       "      <th>4</th>\n",
       "      <td>C1_S1_I5.txt</td>\n",
       "      <td>Male</td>\n",
       "      <td>249</td>\n",
       "      <td>183</td>\n",
       "      <td>256</td>\n",
       "      <td>388</td>\n",
       "      <td>205.119477</td>\n",
       "      <td>252.5</td>\n",
       "      <td>285.5</td>\n",
       "      <td>6.356627</td>\n",
       "      <td>121.404418</td>\n",
       "      <td>498.643373</td>\n",
       "      <td>449.595582</td>\n",
       "      <td>C1_S1_I5.jpg</td>\n",
       "    </tr>\n",
       "  </tbody>\n",
       "</table>\n",
       "</div>"
      ],
      "text/plain": [
       "           name gender   x2   y2   x1   y1  euclidean_distance    lpx    lpy  \\\n",
       "0  C1_S1_I1.txt   Male  219  162  219  369          207.000000  219.0  265.5   \n",
       "1  C1_S1_I2.txt   Male  225  179  227  368          189.010582  226.0  273.5   \n",
       "2  C1_S1_I3.txt   Male  212  154  224  358          204.352636  218.0  256.0   \n",
       "3  C1_S1_I4.txt   Male  237  176  251  401          225.435135  244.0  288.5   \n",
       "4  C1_S1_I5.txt   Male  249  183  256  388          205.119477  252.5  285.5   \n",
       "\n",
       "          x3          y3          x4          y4         image  \n",
       "0 -29.400000   99.900000  467.400000  431.100000  C1_S1_I1.jpg  \n",
       "1  -0.812698  122.291535  452.812698  424.708465  C1_S1_I2.jpg  \n",
       "2 -27.223164   92.517891  463.223164  419.482109  C1_S1_I3.jpg  \n",
       "3 -26.522162  108.151892  514.522162  468.848108  C1_S1_I4.jpg  \n",
       "4   6.356627  121.404418  498.643373  449.595582  C1_S1_I5.jpg  "
      ]
     },
     "execution_count": 106,
     "metadata": {},
     "output_type": "execute_result"
    }
   ],
   "source": [
    "train.head()"
   ]
  },
  {
   "cell_type": "code",
   "execution_count": 107,
   "id": "e9f5def8",
   "metadata": {},
   "outputs": [
    {
     "name": "stdout",
     "output_type": "stream",
     "text": [
      "<class 'pandas.core.frame.DataFrame'>\n",
      "RangeIndex: 10199 entries, 0 to 10198\n",
      "Data columns (total 14 columns):\n",
      " #   Column              Non-Null Count  Dtype  \n",
      "---  ------              --------------  -----  \n",
      " 0   name                10199 non-null  object \n",
      " 1   gender              10199 non-null  object \n",
      " 2   x2                  10199 non-null  int32  \n",
      " 3   y2                  10199 non-null  int32  \n",
      " 4   x1                  10199 non-null  int32  \n",
      " 5   y1                  10199 non-null  int32  \n",
      " 6   euclidean_distance  10199 non-null  float64\n",
      " 7   lpx                 10199 non-null  float64\n",
      " 8   lpy                 10199 non-null  float64\n",
      " 9   x3                  10199 non-null  float64\n",
      " 10  y3                  10199 non-null  float64\n",
      " 11  x4                  10199 non-null  float64\n",
      " 12  y4                  10199 non-null  float64\n",
      " 13  image               10199 non-null  object \n",
      "dtypes: float64(7), int32(4), object(3)\n",
      "memory usage: 956.3+ KB\n"
     ]
    }
   ],
   "source": [
    "# dataframe statistics\n",
    "train.info()"
   ]
  },
  {
   "cell_type": "code",
   "execution_count": 41,
   "id": "e2bd63c3",
   "metadata": {},
   "outputs": [],
   "source": [
    "train.to_pickle('train_roi.pkl')"
   ]
  },
  {
   "cell_type": "code",
   "execution_count": 108,
   "id": "22f1efae",
   "metadata": {},
   "outputs": [],
   "source": [
    "train['x3'] = train['x3'].astype('int')\n",
    "train['y3'] = train['y3'].astype('int')\n",
    "train['x4'] = train['x4'].astype('int')\n",
    "train['y4'] = train['y4'].astype('int')"
   ]
  },
  {
   "cell_type": "code",
   "execution_count": 109,
   "id": "8b25e90c",
   "metadata": {},
   "outputs": [
    {
     "data": {
      "text/html": [
       "<div>\n",
       "<style scoped>\n",
       "    .dataframe tbody tr th:only-of-type {\n",
       "        vertical-align: middle;\n",
       "    }\n",
       "\n",
       "    .dataframe tbody tr th {\n",
       "        vertical-align: top;\n",
       "    }\n",
       "\n",
       "    .dataframe thead th {\n",
       "        text-align: right;\n",
       "    }\n",
       "</style>\n",
       "<table border=\"1\" class=\"dataframe\">\n",
       "  <thead>\n",
       "    <tr style=\"text-align: right;\">\n",
       "      <th></th>\n",
       "      <th>name</th>\n",
       "      <th>gender</th>\n",
       "      <th>x2</th>\n",
       "      <th>y2</th>\n",
       "      <th>x1</th>\n",
       "      <th>y1</th>\n",
       "      <th>euclidean_distance</th>\n",
       "      <th>lpx</th>\n",
       "      <th>lpy</th>\n",
       "      <th>x3</th>\n",
       "      <th>y3</th>\n",
       "      <th>x4</th>\n",
       "      <th>y4</th>\n",
       "      <th>image</th>\n",
       "    </tr>\n",
       "  </thead>\n",
       "  <tbody>\n",
       "    <tr>\n",
       "      <th>0</th>\n",
       "      <td>C1_S1_I1.txt</td>\n",
       "      <td>Male</td>\n",
       "      <td>219</td>\n",
       "      <td>162</td>\n",
       "      <td>219</td>\n",
       "      <td>369</td>\n",
       "      <td>207.000000</td>\n",
       "      <td>219.0</td>\n",
       "      <td>265.5</td>\n",
       "      <td>-29</td>\n",
       "      <td>99</td>\n",
       "      <td>467</td>\n",
       "      <td>431</td>\n",
       "      <td>C1_S1_I1.jpg</td>\n",
       "    </tr>\n",
       "    <tr>\n",
       "      <th>1</th>\n",
       "      <td>C1_S1_I2.txt</td>\n",
       "      <td>Male</td>\n",
       "      <td>225</td>\n",
       "      <td>179</td>\n",
       "      <td>227</td>\n",
       "      <td>368</td>\n",
       "      <td>189.010582</td>\n",
       "      <td>226.0</td>\n",
       "      <td>273.5</td>\n",
       "      <td>0</td>\n",
       "      <td>122</td>\n",
       "      <td>452</td>\n",
       "      <td>424</td>\n",
       "      <td>C1_S1_I2.jpg</td>\n",
       "    </tr>\n",
       "    <tr>\n",
       "      <th>2</th>\n",
       "      <td>C1_S1_I3.txt</td>\n",
       "      <td>Male</td>\n",
       "      <td>212</td>\n",
       "      <td>154</td>\n",
       "      <td>224</td>\n",
       "      <td>358</td>\n",
       "      <td>204.352636</td>\n",
       "      <td>218.0</td>\n",
       "      <td>256.0</td>\n",
       "      <td>-27</td>\n",
       "      <td>92</td>\n",
       "      <td>463</td>\n",
       "      <td>419</td>\n",
       "      <td>C1_S1_I3.jpg</td>\n",
       "    </tr>\n",
       "    <tr>\n",
       "      <th>3</th>\n",
       "      <td>C1_S1_I4.txt</td>\n",
       "      <td>Male</td>\n",
       "      <td>237</td>\n",
       "      <td>176</td>\n",
       "      <td>251</td>\n",
       "      <td>401</td>\n",
       "      <td>225.435135</td>\n",
       "      <td>244.0</td>\n",
       "      <td>288.5</td>\n",
       "      <td>-26</td>\n",
       "      <td>108</td>\n",
       "      <td>514</td>\n",
       "      <td>468</td>\n",
       "      <td>C1_S1_I4.jpg</td>\n",
       "    </tr>\n",
       "    <tr>\n",
       "      <th>4</th>\n",
       "      <td>C1_S1_I5.txt</td>\n",
       "      <td>Male</td>\n",
       "      <td>249</td>\n",
       "      <td>183</td>\n",
       "      <td>256</td>\n",
       "      <td>388</td>\n",
       "      <td>205.119477</td>\n",
       "      <td>252.5</td>\n",
       "      <td>285.5</td>\n",
       "      <td>6</td>\n",
       "      <td>121</td>\n",
       "      <td>498</td>\n",
       "      <td>449</td>\n",
       "      <td>C1_S1_I5.jpg</td>\n",
       "    </tr>\n",
       "  </tbody>\n",
       "</table>\n",
       "</div>"
      ],
      "text/plain": [
       "           name gender   x2   y2   x1   y1  euclidean_distance    lpx    lpy  \\\n",
       "0  C1_S1_I1.txt   Male  219  162  219  369          207.000000  219.0  265.5   \n",
       "1  C1_S1_I2.txt   Male  225  179  227  368          189.010582  226.0  273.5   \n",
       "2  C1_S1_I3.txt   Male  212  154  224  358          204.352636  218.0  256.0   \n",
       "3  C1_S1_I4.txt   Male  237  176  251  401          225.435135  244.0  288.5   \n",
       "4  C1_S1_I5.txt   Male  249  183  256  388          205.119477  252.5  285.5   \n",
       "\n",
       "   x3   y3   x4   y4         image  \n",
       "0 -29   99  467  431  C1_S1_I1.jpg  \n",
       "1   0  122  452  424  C1_S1_I2.jpg  \n",
       "2 -27   92  463  419  C1_S1_I3.jpg  \n",
       "3 -26  108  514  468  C1_S1_I4.jpg  \n",
       "4   6  121  498  449  C1_S1_I5.jpg  "
      ]
     },
     "metadata": {},
     "output_type": "display_data"
    }
   ],
   "source": [
    "display(train.head())"
   ]
  },
  {
   "cell_type": "code",
   "execution_count": 13,
   "id": "d1372b38",
   "metadata": {},
   "outputs": [],
   "source": [
    "IMG_DIR = 'D:/DATA_SCIENCE/biometrics/ubiperiocular_updated/images'"
   ]
  },
  {
   "cell_type": "code",
   "execution_count": 74,
   "id": "d821bd91",
   "metadata": {},
   "outputs": [
    {
     "data": {
      "text/plain": [
       "(-0.5, 437.5, 301.5, -0.5)"
      ]
     },
     "execution_count": 74,
     "metadata": {},
     "output_type": "execute_result"
    },
    {
     "data": {
      "image/png": "[encoded data removed]",
      "text/plain": [
       "<Figure size 720x720 with 3 Axes>"
      ]
     },
     "metadata": {
      "needs_background": "light"
     },
     "output_type": "display_data"
    }
   ],
   "source": [
    "sample = cv2.imread(os.path.join(IMG_DIR,train.iloc[0,-1]), cv2.COLOR_BGR2RGB)\n",
    "#sample_rect = cv2.rectangle(sample.copy(), (int(-0.812698), int(122.291535)), (int(452.812698), int(424.708465)), (255, 0, 0))\n",
    "cropped_image = sample[99 : 431 , 29 : 467]\n",
    "\n",
    "plt.figure(figsize = (10, 10))\n",
    "plt.subplot(1, 3, 1)\n",
    "plt.imshow(sample)\n",
    "plt.title('Original image')\n",
    "plt.axis('off')\n",
    "\n",
    "plt.subplot(1, 3, 2)\n",
    "plt.imshow(sample_rect)\n",
    "plt.title('Bounding box')\n",
    "plt.axis('off')\n",
    "\n",
    "plt.subplot(1, 3, 3)\n",
    "plt.imshow(cropped_image)\n",
    "plt.title('Cropped image')\n",
    "plt.axis('off')"
   ]
  },
  {
   "cell_type": "code",
   "execution_count": 110,
   "id": "24015547",
   "metadata": {},
   "outputs": [],
   "source": [
    "train['x3'] = train['x3'].apply(lambda x: 0 if x < 0 else x)\n",
    "train['y3'] = train['y3'].apply(lambda x: 0 if x < 0 else x)\n",
    "train['x4'] = train['x4'].apply(lambda x: 0 if x < 0 else x)\n",
    "train['y4'] = train['y4'].apply(lambda x: 0 if x < 0 else x)"
   ]
  },
  {
   "cell_type": "code",
   "execution_count": 119,
   "id": "d2ec4245",
   "metadata": {},
   "outputs": [],
   "source": [
    "ROI_DIR = 'D:/DATA_SCIENCE/biometrics/ubiperiocular_updated/roi_images'"
   ]
  },
  {
   "cell_type": "code",
   "execution_count": 122,
   "id": "b2068c4c",
   "metadata": {},
   "outputs": [],
   "source": [
    "# extracting the roi by drawing bounding boxes around them\n",
    "for i in range(0,train.shape[0]):\n",
    "    img = cv2.imread(os.path.join(IMG_DIR,train.iloc[i,-1]), cv2.COLOR_BGR2RGB)\n",
    "    p1, p2, p3, p4 = train.iloc[i,-4].astype('int'), train.iloc[i,-2].astype('int'), train.iloc[i,-5].astype('int'), train.iloc[i,-3].astype('int')\n",
    "    cropped = img[p1:p2, p3:p4]\n",
    "    cv2.imwrite(os.path.join(ROI_DIR,train.iloc[i,-1]), cropped)\n",
    "    #print(cropped.shape)"
   ]
  },
  {
   "cell_type": "markdown",
   "id": "e1292405",
   "metadata": {},
   "source": [
    "# Resizing images"
   ]
  },
  {
   "cell_type": "code",
   "execution_count": 133,
   "id": "01b90893",
   "metadata": {},
   "outputs": [],
   "source": [
    "RESIZE_DIR = 'D:/DATA_SCIENCE/biometrics/ubiperiocular_updated/roi_resized'"
   ]
  },
  {
   "cell_type": "code",
   "execution_count": 137,
   "id": "849c6857",
   "metadata": {},
   "outputs": [],
   "source": [
    "#target = (224 * 224 * 3)\n",
    "# resizing the images to 224*244*3\n",
    "target_size = (224, 224)\n",
    "images_list = list(os.listdir(ROI_DIR))\n",
    "for x in range(len(os.listdir(ROI_DIR))):\n",
    "    #print(os.path.join(ROI_DIR,images_list[x]))\n",
    "    img = cv2.imread(os.path.join(ROI_DIR, images_list[x]))\n",
    "    #print(img.shape)\n",
    "    resized = cv2.resize(img, (target_size))\n",
    "    cv2.imwrite(os.path.join(RESIZE_DIR,images_list[x]), resized)"
   ]
  }
 ],
 "metadata": {
  "kernelspec": {
   "display_name": "Python 3",
   "language": "python",
   "name": "python3"
  },
  "language_info": {
   "codemirror_mode": {
    "name": "ipython",
    "version": 3
   },
   "file_extension": ".py",
   "mimetype": "text/x-python",
   "name": "python",
   "nbconvert_exporter": "python",
   "pygments_lexer": "ipython3",
   "version": "3.8.8"
  }
 },
 "nbformat": 4,
 "nbformat_minor": 5
}
