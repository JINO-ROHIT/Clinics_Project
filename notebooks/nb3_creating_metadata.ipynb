{
 "cells": [
  {
   "cell_type": "code",
   "execution_count": 1,
   "id": "85103d0b",
   "metadata": {},
   "outputs": [],
   "source": [
    "LABELS_DIR = 'D:/DATA_SCIENCE/biometrics/ubiperiocular_updated/labels'"
   ]
  },
  {
   "cell_type": "code",
   "execution_count": 2,
   "id": "556d8799",
   "metadata": {},
   "outputs": [],
   "source": [
    "import os\n",
    "import shutil\n",
    "\n",
    "import pandas as pd\n",
    "import numpy as np\n",
    "\n",
    "import string\n",
    "from tqdm import tqdm\n",
    "\n",
    "from natsort import natsorted"
   ]
  },
  {
   "cell_type": "code",
   "execution_count": 4,
   "id": "b28544ea",
   "metadata": {},
   "outputs": [],
   "source": [
    "# storing the files in files_list\n",
    "files_list = natsorted(list(os.listdir(LABELS_DIR)))"
   ]
  },
  {
   "cell_type": "code",
   "execution_count": 6,
   "id": "b863e812",
   "metadata": {},
   "outputs": [],
   "source": [
    "# iterating through the .txt files and appending in row_list\n",
    "row_list = []\n",
    "name_list = []\n",
    "for file in files_list:\n",
    "    name_list.append(file)\n",
    "    opening = open(LABELS_DIR + '/' + file, 'r', encoding=\"utf8\") #encoding type is utf8\n",
    "    #print(file)\n",
    "    row_list.append(opening.readlines()[2:28])"
   ]
  },
  {
   "cell_type": "code",
   "execution_count": 8,
   "id": "f8497e07",
   "metadata": {},
   "outputs": [],
   "source": [
    "#name_list = []\n",
    "# seperating the gender, and canthus points into different variables\n",
    "gender_list = []\n",
    "coutptx_list = []\n",
    "coutpty_list = []\n",
    "cinptx_list = []\n",
    "cinpty_list = []\n",
    "\n",
    "for file in row_list:\n",
    "    #print(file[0])\n",
    "    #name_list.append(file[0])\n",
    "    gender_list.append(file[4])\n",
    "    \n",
    "    coutptx_list.append(file[12])\n",
    "    coutpty_list.append(file[13])\n",
    "    \n",
    "    cinptx_list.append(file[16])\n",
    "    cinpty_list.append(file[17])"
   ]
  },
  {
   "cell_type": "code",
   "execution_count": 9,
   "id": "ec54bf3d",
   "metadata": {},
   "outputs": [
    {
     "data": {
      "text/html": [
       "<div>\n",
       "<style scoped>\n",
       "    .dataframe tbody tr th:only-of-type {\n",
       "        vertical-align: middle;\n",
       "    }\n",
       "\n",
       "    .dataframe tbody tr th {\n",
       "        vertical-align: top;\n",
       "    }\n",
       "\n",
       "    .dataframe thead th {\n",
       "        text-align: right;\n",
       "    }\n",
       "</style>\n",
       "<table border=\"1\" class=\"dataframe\">\n",
       "  <thead>\n",
       "    <tr style=\"text-align: right;\">\n",
       "      <th></th>\n",
       "      <th>name</th>\n",
       "      <th>gender</th>\n",
       "      <th>corner_out_x</th>\n",
       "      <th>corner_out_y</th>\n",
       "      <th>corner_in_x</th>\n",
       "      <th>corner_in_y</th>\n",
       "    </tr>\n",
       "  </thead>\n",
       "  <tbody>\n",
       "    <tr>\n",
       "      <th>0</th>\n",
       "      <td>C1_S1_I1.txt</td>\n",
       "      <td>Male;\\n</td>\n",
       "      <td>219;\\n</td>\n",
       "      <td>162;\\n</td>\n",
       "      <td>219;\\n</td>\n",
       "      <td>369;\\n</td>\n",
       "    </tr>\n",
       "    <tr>\n",
       "      <th>1</th>\n",
       "      <td>C1_S1_I2.txt</td>\n",
       "      <td>Male;\\n</td>\n",
       "      <td>225;\\n</td>\n",
       "      <td>179;\\n</td>\n",
       "      <td>227;\\n</td>\n",
       "      <td>368;\\n</td>\n",
       "    </tr>\n",
       "    <tr>\n",
       "      <th>2</th>\n",
       "      <td>C1_S1_I3.txt</td>\n",
       "      <td>Male;\\n</td>\n",
       "      <td>212;\\n</td>\n",
       "      <td>154;\\n</td>\n",
       "      <td>224;\\n</td>\n",
       "      <td>358;\\n</td>\n",
       "    </tr>\n",
       "    <tr>\n",
       "      <th>3</th>\n",
       "      <td>C1_S1_I4.txt</td>\n",
       "      <td>Male;\\n</td>\n",
       "      <td>237;\\n</td>\n",
       "      <td>176;\\n</td>\n",
       "      <td>251;\\n</td>\n",
       "      <td>401;\\n</td>\n",
       "    </tr>\n",
       "    <tr>\n",
       "      <th>4</th>\n",
       "      <td>C1_S1_I5.txt</td>\n",
       "      <td>Male;\\n</td>\n",
       "      <td>249;\\n</td>\n",
       "      <td>183;\\n</td>\n",
       "      <td>256;\\n</td>\n",
       "      <td>388;\\n</td>\n",
       "    </tr>\n",
       "  </tbody>\n",
       "</table>\n",
       "</div>"
      ],
      "text/plain": [
       "           name    gender corner_out_x corner_out_y corner_in_x corner_in_y\n",
       "0  C1_S1_I1.txt   Male;\\n       219;\\n       162;\\n      219;\\n      369;\\n\n",
       "1  C1_S1_I2.txt   Male;\\n       225;\\n       179;\\n      227;\\n      368;\\n\n",
       "2  C1_S1_I3.txt   Male;\\n       212;\\n       154;\\n      224;\\n      358;\\n\n",
       "3  C1_S1_I4.txt   Male;\\n       237;\\n       176;\\n      251;\\n      401;\\n\n",
       "4  C1_S1_I5.txt   Male;\\n       249;\\n       183;\\n      256;\\n      388;\\n"
      ]
     },
     "execution_count": 9,
     "metadata": {},
     "output_type": "execute_result"
    }
   ],
   "source": [
    "# making a dataframe\n",
    "dict = {'name' : name_list, \n",
    "        'gender' : gender_list, \n",
    "        'corner_out_x' : coutptx_list, \n",
    "        'corner_out_y' : coutpty_list,\n",
    "        'corner_in_x' : cinptx_list,\n",
    "        'corner_in_y' : cinpty_list,\n",
    "       }\n",
    "\n",
    "meta_data = pd.DataFrame(dict)\n",
    "meta_data.head()"
   ]
  },
  {
   "cell_type": "code",
   "execution_count": 10,
   "id": "26193231",
   "metadata": {},
   "outputs": [
    {
     "data": {
      "text/plain": [
       "name            0\n",
       "gender          0\n",
       "corner_out_x    0\n",
       "corner_out_y    0\n",
       "corner_in_x     0\n",
       "corner_in_y     0\n",
       "dtype: int64"
      ]
     },
     "execution_count": 10,
     "metadata": {},
     "output_type": "execute_result"
    }
   ],
   "source": [
    "#checking for null values\n",
    "meta_data.isna().sum()"
   ]
  },
  {
   "cell_type": "code",
   "execution_count": 11,
   "id": "3a0fd2c3",
   "metadata": {},
   "outputs": [],
   "source": [
    "# function to remove ';\\n'\n",
    "def removee(row):\n",
    "    row = row.replace(';\\n', '')\n",
    "    return row"
   ]
  },
  {
   "cell_type": "code",
   "execution_count": 12,
   "id": "51c7c359",
   "metadata": {},
   "outputs": [],
   "source": [
    "columns = ['name' , 'gender', 'corner_out_x', 'corner_out_y' , 'corner_in_x' , 'corner_in_y']"
   ]
  },
  {
   "cell_type": "code",
   "execution_count": 13,
   "id": "271ee06a",
   "metadata": {},
   "outputs": [],
   "source": [
    "# applying the function\n",
    "for column in columns:\n",
    "    meta_data[column] = meta_data[column].apply(removee)"
   ]
  },
  {
   "cell_type": "code",
   "execution_count": 14,
   "id": "a5fee155",
   "metadata": {},
   "outputs": [
    {
     "data": {
      "text/html": [
       "<div>\n",
       "<style scoped>\n",
       "    .dataframe tbody tr th:only-of-type {\n",
       "        vertical-align: middle;\n",
       "    }\n",
       "\n",
       "    .dataframe tbody tr th {\n",
       "        vertical-align: top;\n",
       "    }\n",
       "\n",
       "    .dataframe thead th {\n",
       "        text-align: right;\n",
       "    }\n",
       "</style>\n",
       "<table border=\"1\" class=\"dataframe\">\n",
       "  <thead>\n",
       "    <tr style=\"text-align: right;\">\n",
       "      <th></th>\n",
       "      <th>name</th>\n",
       "      <th>gender</th>\n",
       "      <th>corner_out_x</th>\n",
       "      <th>corner_out_y</th>\n",
       "      <th>corner_in_x</th>\n",
       "      <th>corner_in_y</th>\n",
       "    </tr>\n",
       "  </thead>\n",
       "  <tbody>\n",
       "    <tr>\n",
       "      <th>0</th>\n",
       "      <td>C1_S1_I1.txt</td>\n",
       "      <td>Male</td>\n",
       "      <td>219</td>\n",
       "      <td>162</td>\n",
       "      <td>219</td>\n",
       "      <td>369</td>\n",
       "    </tr>\n",
       "    <tr>\n",
       "      <th>1</th>\n",
       "      <td>C1_S1_I2.txt</td>\n",
       "      <td>Male</td>\n",
       "      <td>225</td>\n",
       "      <td>179</td>\n",
       "      <td>227</td>\n",
       "      <td>368</td>\n",
       "    </tr>\n",
       "    <tr>\n",
       "      <th>2</th>\n",
       "      <td>C1_S1_I3.txt</td>\n",
       "      <td>Male</td>\n",
       "      <td>212</td>\n",
       "      <td>154</td>\n",
       "      <td>224</td>\n",
       "      <td>358</td>\n",
       "    </tr>\n",
       "    <tr>\n",
       "      <th>3</th>\n",
       "      <td>C1_S1_I4.txt</td>\n",
       "      <td>Male</td>\n",
       "      <td>237</td>\n",
       "      <td>176</td>\n",
       "      <td>251</td>\n",
       "      <td>401</td>\n",
       "    </tr>\n",
       "    <tr>\n",
       "      <th>4</th>\n",
       "      <td>C1_S1_I5.txt</td>\n",
       "      <td>Male</td>\n",
       "      <td>249</td>\n",
       "      <td>183</td>\n",
       "      <td>256</td>\n",
       "      <td>388</td>\n",
       "    </tr>\n",
       "  </tbody>\n",
       "</table>\n",
       "</div>"
      ],
      "text/plain": [
       "           name gender corner_out_x corner_out_y corner_in_x corner_in_y\n",
       "0  C1_S1_I1.txt   Male          219          162         219         369\n",
       "1  C1_S1_I2.txt   Male          225          179         227         368\n",
       "2  C1_S1_I3.txt   Male          212          154         224         358\n",
       "3  C1_S1_I4.txt   Male          237          176         251         401\n",
       "4  C1_S1_I5.txt   Male          249          183         256         388"
      ]
     },
     "execution_count": 14,
     "metadata": {},
     "output_type": "execute_result"
    }
   ],
   "source": [
    "meta_data.head()"
   ]
  },
  {
   "cell_type": "code",
   "execution_count": 15,
   "id": "d4f83e5a",
   "metadata": {},
   "outputs": [],
   "source": [
    "meta_data['corner_out_x'] = meta_data['corner_out_x'].astype('int')\n",
    "meta_data['corner_out_y'] = meta_data['corner_out_y'].astype('int')\n",
    "meta_data['corner_in_x'] = meta_data['corner_in_x'].astype('int')\n",
    "meta_data['corner_in_y'] = meta_data['corner_in_y'].astype('int')"
   ]
  },
  {
   "cell_type": "code",
   "execution_count": 16,
   "id": "e5f672bc",
   "metadata": {},
   "outputs": [
    {
     "name": "stdout",
     "output_type": "stream",
     "text": [
      "<class 'pandas.core.frame.DataFrame'>\n",
      "RangeIndex: 10199 entries, 0 to 10198\n",
      "Data columns (total 6 columns):\n",
      " #   Column        Non-Null Count  Dtype \n",
      "---  ------        --------------  ----- \n",
      " 0   name          10199 non-null  object\n",
      " 1   gender        10199 non-null  object\n",
      " 2   corner_out_x  10199 non-null  int32 \n",
      " 3   corner_out_y  10199 non-null  int32 \n",
      " 4   corner_in_x   10199 non-null  int32 \n",
      " 5   corner_in_y   10199 non-null  int32 \n",
      "dtypes: int32(4), object(2)\n",
      "memory usage: 318.8+ KB\n"
     ]
    }
   ],
   "source": [
    "meta_data.info()"
   ]
  },
  {
   "cell_type": "code",
   "execution_count": 17,
   "id": "21e69014",
   "metadata": {},
   "outputs": [],
   "source": [
    "assert 10199 == meta_data.shape[0], \"lengths don't match, check the processing pipeline\""
   ]
  },
  {
   "cell_type": "code",
   "execution_count": 18,
   "id": "72e53b43",
   "metadata": {},
   "outputs": [],
   "source": [
    "meta_data.to_pickle('train.pkl')"
   ]
  }
 ],
 "metadata": {
  "kernelspec": {
   "display_name": "Python 3",
   "language": "python",
   "name": "python3"
  },
  "language_info": {
   "codemirror_mode": {
    "name": "ipython",
    "version": 3
   },
   "file_extension": ".py",
   "mimetype": "text/x-python",
   "name": "python",
   "nbconvert_exporter": "python",
   "pygments_lexer": "ipython3",
   "version": "3.8.8"
  }
 },
 "nbformat": 4,
 "nbformat_minor": 5
}
